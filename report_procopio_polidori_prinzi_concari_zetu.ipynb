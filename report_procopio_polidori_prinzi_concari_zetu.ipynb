{
 "cells": [
  {
   "cell_type": "markdown",
   "metadata": {},
   "source": [
    "# Final project: Playlist Classification"
   ]
  },
  {
   "cell_type": "markdown",
   "metadata": {},
   "source": [
    "This it the report of our project 'Playlist Classification', the authors are:\n",
    "- Gianluca Procopio, 1942103;  \n",
    "- Andrea Polidori, 2143429;  \n",
    "- Giuliana Prinzi, 1952137;\n",
    "- Laura Concari, 1890490;  \n",
    "- Erika Ioana Zetu, 1888659.  \n",
    "\n",
    "In this notebook you can find initially the data collecting, the pre-processing and the data exploration. Later, there are two sections (Supervised and Unsupervised models) where we will illustrate and explain which model we used and what can we deduct from each one.\n",
    "\n",
    "**ATTENTION**   \n",
    "I will strongly suggest to not run the data collecting and the data pre-processing because it's been a complex process we did on our local machines that required a lot of works, we posted the code just to illustrate what we did but we uploaded only the sets already clean and ready to being used. In particular, the data collecting won't work because I didn't upload my personal API's key so it won't work; moreover, the code would take many minutes to collect all the songs.  You can run starting from 'Taking a look to the data' section, right below the pre-processing."
   ]
  },
  {
   "cell_type": "markdown",
   "metadata": {},
   "source": [
    "## Import"
   ]
  },
  {
   "cell_type": "code",
   "execution_count": 2,
   "metadata": {},
   "outputs": [],
   "source": [
    "import pandas as pd\n",
    "import numpy as np\n",
    "from sklearn.tree import DecisionTreeClassifier\n",
    "from sklearn.neighbors import KNeighborsClassifier\n",
    "from sklearn.ensemble import RandomForestClassifier\n",
    "from sklearn.metrics import accuracy_score, confusion_matrix, precision_score, recall_score, f1_score, silhouette_score\n",
    "import seaborn as sns\n",
    "import matplotlib.pyplot as plt\n",
    "from sklearn.utils import resample\n",
    "from sklearn.cluster import KMeans\n",
    "from collections import defaultdict\n",
    "from sklearn.model_selection import GridSearchCV\n",
    "import warnings\n",
    "import spotipy\n",
    "from spotipy.oauth2 import SpotifyOAuth\n",
    "import spotipy.exceptions\n",
    "import csv\n",
    "from config import CLIENT_ID, CLIENT_SECRET, REDIRECT_URI\n",
    "from collections import defaultdict"
   ]
  },
  {
   "cell_type": "markdown",
   "metadata": {},
   "source": [
    "We got some FutureWarning among the notebook and we blocked them in order to keep the notebook clean and tidy."
   ]
  },
  {
   "cell_type": "code",
   "execution_count": 3,
   "metadata": {},
   "outputs": [],
   "source": [
    "warnings.simplefilter(action='ignore', category=FutureWarning)"
   ]
  },
  {
   "cell_type": "markdown",
   "metadata": {},
   "source": [
    "### Role of each member"
   ]
  },
  {
   "cell_type": "markdown",
   "metadata": {},
   "source": [
    "After we decided this project, I, Gianluca, worked on the data collecting and later started the data pre-processing with the helps of the others.  \n",
    "\n",
    "When it cames to test different models, I took care of the KNN and of the K-Means, while the other trained the Random Forest and Decision Tree models and took care of the presentations."
   ]
  },
  {
   "cell_type": "markdown",
   "metadata": {},
   "source": [
    "## Preprocessing"
   ]
  },
  {
   "cell_type": "markdown",
   "metadata": {},
   "source": [
    "### Collecting data"
   ]
  },
  {
   "cell_type": "markdown",
   "metadata": {},
   "source": [
    "In order to collect data, we took advantage of the Spotipy API for Devoleper called _Spotipy_. We signed in Spotify for Developers and we used the credentials we got there (CLIENT_ID and CLIENT_SECRET) in order to connect to Spotify. Then, we selected some plsylists - a few for each fo us - and for each playlist we extracted all the songs and thei features, this could be easily done with the audio_features(..) method - available in spotipy.\n",
    "\n",
    "To each playlist was assigned a tag (one of our names) as suggested from the teacher and the TAs, such that later we will be able to assign a label to each song, making this a supervised learning problem."
   ]
  },
  {
   "cell_type": "code",
   "execution_count": null,
   "metadata": {},
   "outputs": [],
   "source": [
    "scope = 'playlist-read-private'\n",
    "sp = spotipy.Spotify(auth_manager=SpotifyOAuth(client_id='CLIENT_ID', client_secret='CLIENT_SECRET', redirect_uri=REDIRECT_URI, scope=scope))\n",
    "\n",
    "# copy the url and extract the id, which is on the right of '/'\n",
    "# i need a list of playlist's ids\n",
    "raggae = [('5TBKHHPYImlo3JFvmlnfAC','Gianluca'),('03sDEv7FN58Mb9CJOs1Tgn','Gianluca'),('4X1UqwchhBFITHBLT9tkNJ','Gianluca'),('5m9CzTLsTQ9eZi2FycUpIo','Gianluca'),('3gHH9sIe79r7Y082jIV1Cu','Gianluca'),('37i9dQZF1DXco4ODkIraMD','Gianluca')] \n",
    "classic = [('1kGtBpJnR0bPWX4JXi5wUo','Laura'),('2JV0xEGVwIKCuFo5EbAica','Laura'),('37i9dQZF1EIcUYESbdArbm','Laura'),('37i9dQZF1DWWEJlAGA9gs0','Laura'),('37i9dQZF1DWVFeEut75IAL','Laura'),('37i9dQZF1DWSMJ6QxunHcJ','Laura')]\n",
    "hiphop = [('37i9dQZF1EQnqst5TRi17F','Giuliana'),('5DZ93TH6ABgWYRgdBNJs8O','Giuliana'),('37i9dQZF1DX186v583rmzp','Giuliana'),('37i9dQZF1DX48TTZL62Yht','Giuliana'),('37i9dQZF1DXbkfWVLd8wE3','Giuliana'),('3OrM2V0EsEeJf10WqqA8NP','Giuliana'),('4Re8POjxevmWFk8fcT71sU','Giuliana')]\n",
    "techno = [('37i9dQZF1DWTiY3QffFUdg','Andrea'),('01aBVibTe6ia4BbCFQm4iD','Andrea'),('5Eec5PtiELmFRBsNgjyA0v','Andrea'),('1doRrkfcLJKhSb3agBqCch','Andrea'),('2oC9jBlyBkV5DZZC4TNXWB','Andrea'),('5Kb9Xeuzni24ZWL4XuE7RI','Andrea'),('0Ijh3qcWYkfBYnwWDC9kxQ','Andrea')]\n",
    "rock = [('37i9dQZF1EQpj7X7UK8OOF','Erika'),('37i9dQZF1DWZNFWEuVbQpD','Erika'),('4t8cpLBAeXiT4MXyS7SbV6','Erika'),('37i9dQZF1DWXRqgorJj26U','Erika'),('4jOqGKvV7iu0ojea2pt9Te','Erika'),('37i9dQZF1DX6rsDrBNGuWW','Erika'),('37i9dQZF1DWWsq4e0rDzty','Erika')]\n",
    "uris = raggae + classic + hiphop + techno + rock\n",
    "\n",
    "# create a dict such that for each user there is a set of genres extraced from the rispective column\n",
    "user_genres = defaultdict(set)\n",
    "\n",
    "with open('data/our_songs.csv', 'w', newline='', encoding='utf-8') as songs:\n",
    "\n",
    "    for pl,tag in uris:\n",
    "        uri = 'spotify:playlist:' + pl\n",
    "        results = sp.playlist_tracks(uri)\n",
    "        features = sp.audio_features([results['items'][0]['track']['id']])[0]\n",
    "        # # list of columns names\n",
    "        columns = ['Track','Artist','Tag']\n",
    "        columns = columns + list(features.keys())\n",
    "        # write on the csv\n",
    "        writer = csv.DictWriter(songs,fieldnames=columns)\n",
    "        writer.writeheader()\n",
    "        for item in results['items']:\n",
    "            track = item['track']\n",
    "            audio_features = sp.audio_features([track['id']])[0]\n",
    "            audio_features['Track'] = track['name']\n",
    "            audio_features['Artist'] = track['artists'][0]['name']\n",
    "            audio_features['Tag'] = tag\n",
    "\n",
    "            writer.writerow(audio_features)"
   ]
  },
  {
   "cell_type": "markdown",
   "metadata": {},
   "source": [
    "### Pre-processing Train Set"
   ]
  },
  {
   "cell_type": "markdown",
   "metadata": {},
   "source": [
    "By looking at the first rows of the our handmade trainset we can see that some of the column are not normalized, so we have to do it:"
   ]
  },
  {
   "cell_type": "code",
   "execution_count": 28,
   "metadata": {},
   "outputs": [
    {
     "data": {
      "text/html": [
       "<div>\n",
       "<style scoped>\n",
       "    .dataframe tbody tr th:only-of-type {\n",
       "        vertical-align: middle;\n",
       "    }\n",
       "\n",
       "    .dataframe tbody tr th {\n",
       "        vertical-align: top;\n",
       "    }\n",
       "\n",
       "    .dataframe thead th {\n",
       "        text-align: right;\n",
       "    }\n",
       "</style>\n",
       "<table border=\"1\" class=\"dataframe\">\n",
       "  <thead>\n",
       "    <tr style=\"text-align: right;\">\n",
       "      <th></th>\n",
       "      <th>Track</th>\n",
       "      <th>Artist</th>\n",
       "      <th>Tag</th>\n",
       "      <th>danceability</th>\n",
       "      <th>energy</th>\n",
       "      <th>key</th>\n",
       "      <th>loudness</th>\n",
       "      <th>mode</th>\n",
       "      <th>speechiness</th>\n",
       "      <th>acousticness</th>\n",
       "      <th>...</th>\n",
       "      <th>liveness</th>\n",
       "      <th>valence</th>\n",
       "      <th>tempo</th>\n",
       "      <th>type</th>\n",
       "      <th>id</th>\n",
       "      <th>uri</th>\n",
       "      <th>track_href</th>\n",
       "      <th>analysis_url</th>\n",
       "      <th>duration_ms</th>\n",
       "      <th>time_signature</th>\n",
       "    </tr>\n",
       "  </thead>\n",
       "  <tbody>\n",
       "    <tr>\n",
       "      <th>0</th>\n",
       "      <td>Yo Voy (feat. Daddy Yankee)</td>\n",
       "      <td>Zion &amp; Lennox</td>\n",
       "      <td>Gianluca</td>\n",
       "      <td>0.808</td>\n",
       "      <td>0.697</td>\n",
       "      <td>10</td>\n",
       "      <td>-5.899</td>\n",
       "      <td>1</td>\n",
       "      <td>0.2410</td>\n",
       "      <td>0.041</td>\n",
       "      <td>...</td>\n",
       "      <td>0.0546</td>\n",
       "      <td>0.554</td>\n",
       "      <td>95.060</td>\n",
       "      <td>audio_features</td>\n",
       "      <td>5gflgO9EPbIBf16n5TKnQS</td>\n",
       "      <td>spotify:track:5gflgO9EPbIBf16n5TKnQS</td>\n",
       "      <td>https://api.spotify.com/v1/tracks/5gflgO9EPbIB...</td>\n",
       "      <td>https://api.spotify.com/v1/audio-analysis/5gfl...</td>\n",
       "      <td>232020</td>\n",
       "      <td>4</td>\n",
       "    </tr>\n",
       "    <tr>\n",
       "      <th>1</th>\n",
       "      <td>Gasolina</td>\n",
       "      <td>Daddy Yankee</td>\n",
       "      <td>Gianluca</td>\n",
       "      <td>0.852</td>\n",
       "      <td>0.797</td>\n",
       "      <td>0</td>\n",
       "      <td>-6.543</td>\n",
       "      <td>1</td>\n",
       "      <td>0.0614</td>\n",
       "      <td>0.322</td>\n",
       "      <td>...</td>\n",
       "      <td>0.0845</td>\n",
       "      <td>0.741</td>\n",
       "      <td>96.008</td>\n",
       "      <td>audio_features</td>\n",
       "      <td>228BxWXUYQPJrJYHDLOHkj</td>\n",
       "      <td>spotify:track:228BxWXUYQPJrJYHDLOHkj</td>\n",
       "      <td>https://api.spotify.com/v1/tracks/228BxWXUYQPJ...</td>\n",
       "      <td>https://api.spotify.com/v1/audio-analysis/228B...</td>\n",
       "      <td>192600</td>\n",
       "      <td>4</td>\n",
       "    </tr>\n",
       "    <tr>\n",
       "      <th>2</th>\n",
       "      <td>PAPI (feat. Babywine &amp; Alberto Stylee)</td>\n",
       "      <td>DJ Nelson</td>\n",
       "      <td>Gianluca</td>\n",
       "      <td>0.909</td>\n",
       "      <td>0.716</td>\n",
       "      <td>1</td>\n",
       "      <td>-6.628</td>\n",
       "      <td>1</td>\n",
       "      <td>0.1260</td>\n",
       "      <td>0.359</td>\n",
       "      <td>...</td>\n",
       "      <td>0.1060</td>\n",
       "      <td>0.417</td>\n",
       "      <td>105.078</td>\n",
       "      <td>audio_features</td>\n",
       "      <td>2wQBzAZdsaqDBbtwBk5MhA</td>\n",
       "      <td>spotify:track:2wQBzAZdsaqDBbtwBk5MhA</td>\n",
       "      <td>https://api.spotify.com/v1/tracks/2wQBzAZdsaqD...</td>\n",
       "      <td>https://api.spotify.com/v1/audio-analysis/2wQB...</td>\n",
       "      <td>187093</td>\n",
       "      <td>4</td>\n",
       "    </tr>\n",
       "    <tr>\n",
       "      <th>3</th>\n",
       "      <td>Envolver</td>\n",
       "      <td>Anitta</td>\n",
       "      <td>Gianluca</td>\n",
       "      <td>0.812</td>\n",
       "      <td>0.736</td>\n",
       "      <td>4</td>\n",
       "      <td>-5.421</td>\n",
       "      <td>0</td>\n",
       "      <td>0.0833</td>\n",
       "      <td>0.152</td>\n",
       "      <td>...</td>\n",
       "      <td>0.0914</td>\n",
       "      <td>0.396</td>\n",
       "      <td>91.993</td>\n",
       "      <td>audio_features</td>\n",
       "      <td>3IAfUEeaXRX9s9UdKOJrFI</td>\n",
       "      <td>spotify:track:3IAfUEeaXRX9s9UdKOJrFI</td>\n",
       "      <td>https://api.spotify.com/v1/tracks/3IAfUEeaXRX9...</td>\n",
       "      <td>https://api.spotify.com/v1/audio-analysis/3IAf...</td>\n",
       "      <td>193806</td>\n",
       "      <td>4</td>\n",
       "    </tr>\n",
       "    <tr>\n",
       "      <th>4</th>\n",
       "      <td>Te Boté</td>\n",
       "      <td>Darell</td>\n",
       "      <td>Gianluca</td>\n",
       "      <td>0.918</td>\n",
       "      <td>0.602</td>\n",
       "      <td>4</td>\n",
       "      <td>-3.986</td>\n",
       "      <td>0</td>\n",
       "      <td>0.1150</td>\n",
       "      <td>0.401</td>\n",
       "      <td>...</td>\n",
       "      <td>0.0805</td>\n",
       "      <td>0.158</td>\n",
       "      <td>96.518</td>\n",
       "      <td>audio_features</td>\n",
       "      <td>42FWqCxAw5aG1FvjyVjIlH</td>\n",
       "      <td>spotify:track:42FWqCxAw5aG1FvjyVjIlH</td>\n",
       "      <td>https://api.spotify.com/v1/tracks/42FWqCxAw5aG...</td>\n",
       "      <td>https://api.spotify.com/v1/audio-analysis/42FW...</td>\n",
       "      <td>275693</td>\n",
       "      <td>4</td>\n",
       "    </tr>\n",
       "  </tbody>\n",
       "</table>\n",
       "<p>5 rows × 21 columns</p>\n",
       "</div>"
      ],
      "text/plain": [
       "                                    Track         Artist       Tag  \\\n",
       "0             Yo Voy (feat. Daddy Yankee)  Zion & Lennox  Gianluca   \n",
       "1                                Gasolina   Daddy Yankee  Gianluca   \n",
       "2  PAPI (feat. Babywine & Alberto Stylee)      DJ Nelson  Gianluca   \n",
       "3                                Envolver         Anitta  Gianluca   \n",
       "4                                 Te Boté         Darell  Gianluca   \n",
       "\n",
       "   danceability  energy  key  loudness  mode  speechiness  acousticness  ...  \\\n",
       "0         0.808   0.697   10    -5.899     1       0.2410         0.041  ...   \n",
       "1         0.852   0.797    0    -6.543     1       0.0614         0.322  ...   \n",
       "2         0.909   0.716    1    -6.628     1       0.1260         0.359  ...   \n",
       "3         0.812   0.736    4    -5.421     0       0.0833         0.152  ...   \n",
       "4         0.918   0.602    4    -3.986     0       0.1150         0.401  ...   \n",
       "\n",
       "   liveness  valence    tempo            type                      id  \\\n",
       "0    0.0546    0.554   95.060  audio_features  5gflgO9EPbIBf16n5TKnQS   \n",
       "1    0.0845    0.741   96.008  audio_features  228BxWXUYQPJrJYHDLOHkj   \n",
       "2    0.1060    0.417  105.078  audio_features  2wQBzAZdsaqDBbtwBk5MhA   \n",
       "3    0.0914    0.396   91.993  audio_features  3IAfUEeaXRX9s9UdKOJrFI   \n",
       "4    0.0805    0.158   96.518  audio_features  42FWqCxAw5aG1FvjyVjIlH   \n",
       "\n",
       "                                    uri  \\\n",
       "0  spotify:track:5gflgO9EPbIBf16n5TKnQS   \n",
       "1  spotify:track:228BxWXUYQPJrJYHDLOHkj   \n",
       "2  spotify:track:2wQBzAZdsaqDBbtwBk5MhA   \n",
       "3  spotify:track:3IAfUEeaXRX9s9UdKOJrFI   \n",
       "4  spotify:track:42FWqCxAw5aG1FvjyVjIlH   \n",
       "\n",
       "                                          track_href  \\\n",
       "0  https://api.spotify.com/v1/tracks/5gflgO9EPbIB...   \n",
       "1  https://api.spotify.com/v1/tracks/228BxWXUYQPJ...   \n",
       "2  https://api.spotify.com/v1/tracks/2wQBzAZdsaqD...   \n",
       "3  https://api.spotify.com/v1/tracks/3IAfUEeaXRX9...   \n",
       "4  https://api.spotify.com/v1/tracks/42FWqCxAw5aG...   \n",
       "\n",
       "                                        analysis_url duration_ms  \\\n",
       "0  https://api.spotify.com/v1/audio-analysis/5gfl...      232020   \n",
       "1  https://api.spotify.com/v1/audio-analysis/228B...      192600   \n",
       "2  https://api.spotify.com/v1/audio-analysis/2wQB...      187093   \n",
       "3  https://api.spotify.com/v1/audio-analysis/3IAf...      193806   \n",
       "4  https://api.spotify.com/v1/audio-analysis/42FW...      275693   \n",
       "\n",
       "   time_signature  \n",
       "0               4  \n",
       "1               4  \n",
       "2               4  \n",
       "3               4  \n",
       "4               4  \n",
       "\n",
       "[5 rows x 21 columns]"
      ]
     },
     "execution_count": 28,
     "metadata": {},
     "output_type": "execute_result"
    }
   ],
   "source": [
    "train = pd.read_csv('data/our_songs.csv')\n",
    "train.head()"
   ]
  },
  {
   "cell_type": "markdown",
   "metadata": {},
   "source": [
    "Here we normalize some columns and drop the useless features such that we will have the same feature as the ones we found on the Kaggle dataset (more later)."
   ]
  },
  {
   "cell_type": "code",
   "execution_count": null,
   "metadata": {},
   "outputs": [],
   "source": [
    "def min_max_scaling(column):\n",
    "    if column.min() < 0 or column.max() > 1:\n",
    "        return (column - column.min()) / (column.max() - column.min())\n",
    "    else:\n",
    "        return column\n",
    "\n",
    "train = pd.read_csv('data/our_songs.csv')\n",
    "train = train.drop_duplicates()\n",
    "train = train.dropna()\n",
    "# normalize columns\n",
    "to_normalize = ['danceability', 'energy', 'speechiness','acousticness','instrumentalness','liveness','valence']\n",
    "train[to_normalize] = train[to_normalize].apply(min_max_scaling, axis=0)\n",
    "\n",
    "train = train.drop(columns=['type','id','uri','track_href','analysis_url','duration_ms'])\n",
    "train = train.reset_index(drop=True)"
   ]
  },
  {
   "cell_type": "markdown",
   "metadata": {},
   "source": [
    "### Pre-processing Test Set"
   ]
  },
  {
   "cell_type": "markdown",
   "metadata": {},
   "source": [
    "Since we have added the labels in the Train Set, we had to figure out how could we had these labels to each song in the test set. Hence, we took a look to our train set and for each tag we looked for some keywords in the genre column that could help us classify each song. \n",
    "\n",
    "In the next lines we analyzed the music genres column and we added the right label when we found a certain keyword."
   ]
  },
  {
   "cell_type": "code",
   "execution_count": null,
   "metadata": {},
   "outputs": [],
   "source": [
    "### preprocessing of test set\n",
    "test = pd.read_excel('/Users/gianluca/Desktop/magistrale/primo anno/Primo semestre/Fundamentals of Data Science/Project/data/songs_df.xlsx')\n",
    "test = test[['track_name','artists_names','artist_genres','acousticness',\n",
    "             'danceability','energy','instrumentalness','key','liveness',\n",
    "             'loudness','mode','speechiness','tempo','time_signature','valence']]\n",
    "test = test.dropna()\n",
    "\n",
    "# split the genres such that it becomes a list of strings\n",
    "test['artist_genres'] = test['artist_genres'].str.split(';')\n",
    "\n",
    "def categorize_genre(genre):\n",
    "    rock_keywords = ['rock']\n",
    "    hip_hop_keywords = ['rap', 'hip hop']\n",
    "    classic_keywords = ['classical', 'orchestra', 'opera', 'symphony']\n",
    "    techno_keywords = ['techno', 'electronic', 'house']\n",
    "    reggaeton_keywords = ['reggaeton', 'dembow', 'latin', 'perreo','spanish','raggae']\n",
    "    genre_lower = [g.lower() for g in genre]\n",
    "\n",
    "    if any(keyword in genre_lower for keyword in rock_keywords):\n",
    "        return 'Erika'\n",
    "    elif any(keyword in genre_lower for keyword in hip_hop_keywords):\n",
    "        return 'Giuliana'\n",
    "    elif any(keyword in genre_lower for keyword in classic_keywords):\n",
    "        return 'Laura'\n",
    "    elif any(keyword in genre_lower for keyword in techno_keywords):\n",
    "        return 'Andrea'\n",
    "    elif any(keyword in genre_lower for keyword in reggaeton_keywords):\n",
    "        return 'Gianluca'\n",
    "    else:\n",
    "        return 'other'\n",
    "    \n",
    "test['Tag'] = test['artist_genres'].apply(categorize_genre)\n",
    "# drop the useless columns and rows\n",
    "test = test[test['Tag'] != 'other']\n",
    "test = test.drop(columns=['artist_genres'])\n",
    "test = test.reset_index(drop=True)\n",
    "\n",
    "# fix the artist name such that will appear only the first artist\n",
    "test['artists_names'] = test['artists_names'].str.split(';').apply(lambda x: x[0])"
   ]
  },
  {
   "cell_type": "markdown",
   "metadata": {},
   "source": [
    "Then, we checked if there were any rows in common, and we dropped them."
   ]
  },
  {
   "cell_type": "code",
   "execution_count": null,
   "metadata": {},
   "outputs": [],
   "source": [
    "## clean test: check if there are any rows in common\n",
    "merge = pd.merge(train[['Track', 'Artist']], \n",
    "                 test[['track_name', 'artists_names']], \n",
    "                 how='left', left_on=['Track', 'Artist'], \n",
    "                 right_on=['track_name', 'artists_names'])\n",
    "merge = merge[merge['Track'].isna()]\n",
    "merge = merge.drop(['Track', 'Artist'], axis=1)"
   ]
  },
  {
   "cell_type": "markdown",
   "metadata": {},
   "source": [
    "In the end we changed some columns names in the test set and changed the order of the features in the train set such that they will be in the same order as the columns in the test set and later we saved the sets on two local .csv files."
   ]
  },
  {
   "cell_type": "code",
   "execution_count": null,
   "metadata": {},
   "outputs": [],
   "source": [
    "clmn_names = {\n",
    "    'track_name': 'Track', \n",
    "    'artists_names': 'Artist'\n",
    "    }\n",
    "test.rename(columns=clmn_names, inplace=True)\n",
    "\n",
    "# reorder the train set columns such that they'll be in the same order as the test set\n",
    "train = train[['Track', 'Artist','acousticness', 'danceability', 'energy',\n",
    "              'instrumentalness', 'key', 'liveness', 'loudness', 'mode',\n",
    "              'speechiness', 'tempo', 'time_signature', 'valence', 'Tag']]\n",
    "\n",
    "# permute the rows because we extracted the playlist in order, the random seed is for reproducibility\n",
    "train = train.sample(frac=1, random_state=42)\n",
    "train.to_csv('data/train2.csv', index=False)\n",
    "test.to_csv('data/test2.csv', index=False)"
   ]
  },
  {
   "cell_type": "markdown",
   "metadata": {},
   "source": [
    "### Take a look to the data\n",
    "Now we will take a look to the train and test sets."
   ]
  },
  {
   "cell_type": "code",
   "execution_count": 52,
   "metadata": {},
   "outputs": [],
   "source": [
    "train_data = pd.read_csv('data/cleaned_train.csv')\n",
    "# rebalance the element in the test set such that for each tag there will be the same amount of entries\n",
    "test_data = pd.read_csv('data/cleaned_test.csv')\n",
    "\n",
    "features = ['acousticness', 'danceability', 'energy',\n",
    "              'instrumentalness', 'key', 'liveness', 'loudness', 'mode',\n",
    "              'speechiness', 'tempo', 'time_signature', 'valence']"
   ]
  },
  {
   "cell_type": "markdown",
   "metadata": {},
   "source": [
    "First take a look to the train set."
   ]
  },
  {
   "cell_type": "code",
   "execution_count": 53,
   "metadata": {},
   "outputs": [
    {
     "data": {
      "text/plain": [
       "(array([412.,   0., 431.,   0.,   0., 567.,   0., 393.,   0., 335.]),\n",
       " array([0. , 0.4, 0.8, 1.2, 1.6, 2. , 2.4, 2.8, 3.2, 3.6, 4. ]),\n",
       " <BarContainer object of 10 artists>)"
      ]
     },
     "execution_count": 53,
     "metadata": {},
     "output_type": "execute_result"
    },
    {
     "data": {
      "image/png": "[encoded data removed]",
      "text/plain": [
       "<Figure size 640x480 with 1 Axes>"
      ]
     },
     "metadata": {},
     "output_type": "display_data"
    }
   ],
   "source": [
    "# we consider only numeric feature, these are the variables we are gonna use in the next analysis\n",
    "X_train = train_data.drop(['Track', 'Artist', 'Tag'], axis=1)\n",
    "y_true = train_data['Tag']\n",
    "plt.hist(y_true)"
   ]
  },
  {
   "cell_type": "markdown",
   "metadata": {},
   "source": [
    "We can see that more or less the data are well distributed among all the classes.\n",
    "\n",
    "Now let's analyze the test set:"
   ]
  },
  {
   "cell_type": "code",
   "execution_count": 54,
   "metadata": {},
   "outputs": [
    {
     "data": {
      "text/plain": [
       "(array([1323.,    0.,  205.,    0.,    0., 1275.,    0.,   96.,    0.,\n",
       "         152.]),\n",
       " array([0. , 0.4, 0.8, 1.2, 1.6, 2. , 2.4, 2.8, 3.2, 3.6, 4. ]),\n",
       " <BarContainer object of 10 artists>)"
      ]
     },
     "execution_count": 54,
     "metadata": {},
     "output_type": "execute_result"
    },
    {
     "data": {
      "image/png": "[encoded data removed]",
      "text/plain": [
       "<Figure size 640x480 with 1 Axes>"
      ]
     },
     "metadata": {},
     "output_type": "display_data"
    }
   ],
   "source": [
    "# variable we are going to use when working with unbalanced test set\n",
    "X_test = test_data.drop(['Track', 'Artist', 'Tag'], axis=1)  # Exclude 'Track', 'Artist', and 'Tag' columns\n",
    "y_test = test_data['Tag']\n",
    "\n",
    "plt.hist(y_test)"
   ]
  },
  {
   "cell_type": "markdown",
   "metadata": {},
   "source": [
    "It's obvious that the test set is heavily unbalanced because there are 2 classes that have more than 1200 entries while the other 3 have 200 or less entries. In order to conduct a proper analysis we have to rebalance the test set."
   ]
  },
  {
   "cell_type": "markdown",
   "metadata": {},
   "source": [
    "#### Balancing the Test Set"
   ]
  },
  {
   "cell_type": "code",
   "execution_count": 57,
   "metadata": {},
   "outputs": [],
   "source": [
    "# BALANCING THE TEST SET\n",
    "tag_count = y_test.value_counts()\n",
    "test_resampled = pd.DataFrame(columns=test_data.columns)\n",
    "min_count = round(tag_count.min())\n",
    "\n",
    "for tag in tag_count.index:\n",
    "    tags = test_data[test_data['Tag'] == tag]\n",
    "    tag_resampled = resample(tags, replace=False, n_samples=min_count, random_state=42)\n",
    "    test_resampled = pd.concat([test_resampled, tag_resampled])\n",
    "\n",
    "# drop the useless features\n",
    "# these are the variables we ar egoing to use when testing models on balanced test set.\n",
    "X_test_bal = test_resampled.drop(['Track', 'Artist', 'Tag'], axis=1)\n",
    "y_test_bal = test_resampled['Tag']"
   ]
  },
  {
   "cell_type": "markdown",
   "metadata": {},
   "source": [
    "Let's take a look now:"
   ]
  },
  {
   "cell_type": "code",
   "execution_count": 58,
   "metadata": {},
   "outputs": [
    {
     "data": {
      "text/plain": [
       "(array([96.,  0., 96.,  0.,  0., 96.,  0., 96.,  0., 96.]),\n",
       " array([0. , 0.4, 0.8, 1.2, 1.6, 2. , 2.4, 2.8, 3.2, 3.6, 4. ]),\n",
       " <BarContainer object of 10 artists>)"
      ]
     },
     "execution_count": 58,
     "metadata": {},
     "output_type": "execute_result"
    },
    {
     "data": {
      "image/png": "[encoded data removed]",
      "text/plain": [
       "<Figure size 640x480 with 1 Axes>"
      ]
     },
     "metadata": {},
     "output_type": "display_data"
    }
   ],
   "source": [
    "plt.hist(y_test_bal)"
   ]
  },
  {
   "cell_type": "markdown",
   "metadata": {},
   "source": [
    "Now the classes are balanced and we can proceed with our analysis"
   ]
  },
  {
   "cell_type": "markdown",
   "metadata": {},
   "source": [
    "### Briefly, what will we do later?"
   ]
  },
  {
   "cell_type": "markdown",
   "metadata": {},
   "source": [
    "Our initial idea was to use clustering models in order to find group of songs because we assumed that by chosing 5 different music genres the songs will be divided in clusters. When we first presented the idea the teahcer suggested us to add labels and treat this as a supervised learning problem because otherwise we wouldn't have been able to assign each song to one of us. \n",
    "\n",
    "In order to properly perform this classification we chose many models and we will see which one works better. We chose 3 supervised learing models and one _half_ unsupervised learning (the _half_ will be more clear later). The model we've chosen are:\n",
    "- Decision Tree (Sup. Learning);\n",
    "- Random Forest (Sup. Learning);\n",
    "- KNN (Sup. Learning);\n",
    "- K-Means (Unsup. Learning).\n",
    "\n",
    "We choose very different algorithms because each one of them has a different approaches to the classification, in fact a KNN or a K-Means algorithm work better with data divided into clusters and organized while the Decision Tree or especially the Random Forest work better with less organized and more random and overlapped data.\n",
    "\n",
    "Since we noticed that the test set is heavily unbalanced we can perform our analysis with both test set and compare the results."
   ]
  },
  {
   "cell_type": "markdown",
   "metadata": {},
   "source": [
    "## Supervised Learning"
   ]
  },
  {
   "cell_type": "markdown",
   "metadata": {},
   "source": [
    "### Decision Tree"
   ]
  },
  {
   "cell_type": "markdown",
   "metadata": {},
   "source": [
    "Decision Tree is a supervised learning model that allows us to classify entries starting from a finite number of features. Each tree's node represent a feature of the dataset and for each feature we decide to split the dataset such that this split will give us, for example, the higher Information Gain - but could be used many others indicators."
   ]
  },
  {
   "cell_type": "code",
   "execution_count": 59,
   "metadata": {},
   "outputs": [
    {
     "data": {
      "text/html": [
       "<style>#sk-container-id-6 {color: black;background-color: white;}#sk-container-id-6 pre{padding: 0;}#sk-container-id-6 div.sk-toggleable {background-color: white;}#sk-container-id-6 label.sk-toggleable__label {cursor: pointer;display: block;width: 100%;margin-bottom: 0;padding: 0.3em;box-sizing: border-box;text-align: center;}#sk-container-id-6 label.sk-toggleable__label-arrow:before {content: \"▸\";float: left;margin-right: 0.25em;color: #696969;}#sk-container-id-6 label.sk-toggleable__label-arrow:hover:before {color: black;}#sk-container-id-6 div.sk-estimator:hover label.sk-toggleable__label-arrow:before {color: black;}#sk-container-id-6 div.sk-toggleable__content {max-height: 0;max-width: 0;overflow: hidden;text-align: left;background-color: #f0f8ff;}#sk-container-id-6 div.sk-toggleable__content pre {margin: 0.2em;color: black;border-radius: 0.25em;background-color: #f0f8ff;}#sk-container-id-6 input.sk-toggleable__control:checked~div.sk-toggleable__content {max-height: 200px;max-width: 100%;overflow: auto;}#sk-container-id-6 input.sk-toggleable__control:checked~label.sk-toggleable__label-arrow:before {content: \"▾\";}#sk-container-id-6 div.sk-estimator input.sk-toggleable__control:checked~label.sk-toggleable__label {background-color: #d4ebff;}#sk-container-id-6 div.sk-label input.sk-toggleable__control:checked~label.sk-toggleable__label {background-color: #d4ebff;}#sk-container-id-6 input.sk-hidden--visually {border: 0;clip: rect(1px 1px 1px 1px);clip: rect(1px, 1px, 1px, 1px);height: 1px;margin: -1px;overflow: hidden;padding: 0;position: absolute;width: 1px;}#sk-container-id-6 div.sk-estimator {font-family: monospace;background-color: #f0f8ff;border: 1px dotted black;border-radius: 0.25em;box-sizing: border-box;margin-bottom: 0.5em;}#sk-container-id-6 div.sk-estimator:hover {background-color: #d4ebff;}#sk-container-id-6 div.sk-parallel-item::after {content: \"\";width: 100%;border-bottom: 1px solid gray;flex-grow: 1;}#sk-container-id-6 div.sk-label:hover label.sk-toggleable__label {background-color: #d4ebff;}#sk-container-id-6 div.sk-serial::before {content: \"\";position: absolute;border-left: 1px solid gray;box-sizing: border-box;top: 0;bottom: 0;left: 50%;z-index: 0;}#sk-container-id-6 div.sk-serial {display: flex;flex-direction: column;align-items: center;background-color: white;padding-right: 0.2em;padding-left: 0.2em;position: relative;}#sk-container-id-6 div.sk-item {position: relative;z-index: 1;}#sk-container-id-6 div.sk-parallel {display: flex;align-items: stretch;justify-content: center;background-color: white;position: relative;}#sk-container-id-6 div.sk-item::before, #sk-container-id-6 div.sk-parallel-item::before {content: \"\";position: absolute;border-left: 1px solid gray;box-sizing: border-box;top: 0;bottom: 0;left: 50%;z-index: -1;}#sk-container-id-6 div.sk-parallel-item {display: flex;flex-direction: column;z-index: 1;position: relative;background-color: white;}#sk-container-id-6 div.sk-parallel-item:first-child::after {align-self: flex-end;width: 50%;}#sk-container-id-6 div.sk-parallel-item:last-child::after {align-self: flex-start;width: 50%;}#sk-container-id-6 div.sk-parallel-item:only-child::after {width: 0;}#sk-container-id-6 div.sk-dashed-wrapped {border: 1px dashed gray;margin: 0 0.4em 0.5em 0.4em;box-sizing: border-box;padding-bottom: 0.4em;background-color: white;}#sk-container-id-6 div.sk-label label {font-family: monospace;font-weight: bold;display: inline-block;line-height: 1.2em;}#sk-container-id-6 div.sk-label-container {text-align: center;}#sk-container-id-6 div.sk-container {/* jupyter's `normalize.less` sets `[hidden] { display: none; }` but bootstrap.min.css set `[hidden] { display: none !important; }` so we also need the `!important` here to be able to override the default hidden behavior on the sphinx rendered scikit-learn.org. See: https://github.com/scikit-learn/scikit-learn/issues/21755 */display: inline-block !important;position: relative;}#sk-container-id-6 div.sk-text-repr-fallback {display: none;}</style><div id=\"sk-container-id-6\" class=\"sk-top-container\"><div class=\"sk-text-repr-fallback\"><pre>DecisionTreeClassifier(random_state=42)</pre><b>In a Jupyter environment, please rerun this cell to show the HTML representation or trust the notebook. <br />On GitHub, the HTML representation is unable to render, please try loading this page with nbviewer.org.</b></div><div class=\"sk-container\" hidden><div class=\"sk-item\"><div class=\"sk-estimator sk-toggleable\"><input class=\"sk-toggleable__control sk-hidden--visually\" id=\"sk-estimator-id-6\" type=\"checkbox\" checked><label for=\"sk-estimator-id-6\" class=\"sk-toggleable__label sk-toggleable__label-arrow\">DecisionTreeClassifier</label><div class=\"sk-toggleable__content\"><pre>DecisionTreeClassifier(random_state=42)</pre></div></div></div></div></div>"
      ],
      "text/plain": [
       "DecisionTreeClassifier(random_state=42)"
      ]
     },
     "execution_count": 59,
     "metadata": {},
     "output_type": "execute_result"
    }
   ],
   "source": [
    "# retrieve train set\n",
    "X_train = train_data[features]\n",
    "y_train = train_data['Tag']\n",
    "# retrieve test set\n",
    "X_test = test_data[features]\n",
    "y_test = test_data['Tag']\n",
    "\n",
    "# Create and train the model (example with Decision Tree)\n",
    "model = DecisionTreeClassifier(random_state=42)\n",
    "model.fit(X_train, y_train)"
   ]
  },
  {
   "cell_type": "markdown",
   "metadata": {},
   "source": [
    "#### Predictions with the Unbalanced test set"
   ]
  },
  {
   "cell_type": "code",
   "execution_count": 60,
   "metadata": {},
   "outputs": [
    {
     "name": "stdout",
     "output_type": "stream",
     "text": [
      "Accuracy: 0.6597836774827925\n",
      "Precision: 0.7607253017107414\n",
      "Recall: 0.6597836774827925\n",
      "F1-Score: 0.6904776516591181\n"
     ]
    },
    {
     "data": {
      "image/png": "[encoded data removed]",
      "text/plain": [
       "<Figure size 640x480 with 1 Axes>"
      ]
     },
     "metadata": {},
     "output_type": "display_data"
    }
   ],
   "source": [
    "# Predict labels for the test dataset\n",
    "test_predictions = model.predict(X_test)\n",
    "test_data['predicted_Tag'] = test_predictions\n",
    "\n",
    "accuracy = accuracy_score(y_test, test_predictions)\n",
    "precision = precision_score(y_test, test_predictions, average='weighted')\n",
    "recall = recall_score(y_test, test_predictions, average='weighted')\n",
    "f1 = f1_score(y_test, test_predictions, average='weighted')\n",
    "\n",
    "print(f'Accuracy: {accuracy}')\n",
    "print(f'Precision: {precision}')\n",
    "print(f'Recall: {recall}')\n",
    "print(f'F1-Score: {f1}')\n",
    "\n",
    "cm = confusion_matrix(y_test, test_predictions)\n",
    "sns.heatmap(cm, annot=True, fmt='d', cmap='Blues', cbar=False)\n",
    "plt.xlabel('Predicted Labels')\n",
    "plt.ylabel('True Labels')\n",
    "plt.title('Confusion Matrix')\n",
    "plt.show()"
   ]
  },
  {
   "cell_type": "markdown",
   "metadata": {},
   "source": [
    "**Classes in the confusion matrix:**   \n",
    "0 -> Andrea  \n",
    "1 -> Erika  \n",
    "2 -> Gianluca  \n",
    "3 -> Giuliana  \n",
    "4 -> Laura  "
   ]
  },
  {
   "cell_type": "markdown",
   "metadata": {},
   "source": [
    "#### Prediction with Balanced test set"
   ]
  },
  {
   "cell_type": "code",
   "execution_count": 61,
   "metadata": {},
   "outputs": [
    {
     "name": "stdout",
     "output_type": "stream",
     "text": [
      "Accuracy: 0.7\n",
      "Precision: 0.7094239603362159\n",
      "Recall: 0.7\n",
      "F1-Score: 0.7006017669320318\n"
     ]
    },
    {
     "data": {
      "image/png": "[encoded data removed]",
      "text/plain": [
       "<Figure size 640x480 with 1 Axes>"
      ]
     },
     "metadata": {},
     "output_type": "display_data"
    }
   ],
   "source": [
    "# Predict labels for the test dataset\n",
    "test_predictions = model.predict(X_test_bal)\n",
    "test_resampled['predicted_Tag'] = test_predictions\n",
    "\n",
    "accuracy = accuracy_score(y_test_bal, test_predictions)\n",
    "precision = precision_score(y_test_bal, test_predictions, average='weighted')\n",
    "recall = recall_score(y_test_bal, test_predictions, average='weighted')\n",
    "f1 = f1_score(y_test_bal, test_predictions, average='weighted')\n",
    "\n",
    "print(f'Accuracy: {accuracy}')\n",
    "print(f'Precision: {precision}')\n",
    "print(f'Recall: {recall}')\n",
    "print(f'F1-Score: {f1}')\n",
    "\n",
    "cm = confusion_matrix(y_test_bal, test_predictions)\n",
    "sns.heatmap(cm, annot=True, fmt='d', cmap='Blues', cbar=False)\n",
    "plt.xlabel('Predicted Labels')\n",
    "plt.ylabel('True Labels')\n",
    "plt.title('Confusion Matrix')\n",
    "plt.show()"
   ]
  },
  {
   "cell_type": "markdown",
   "metadata": {},
   "source": [
    "#### Comparison"
   ]
  },
  {
   "cell_type": "markdown",
   "metadata": {},
   "source": [
    "We can see that as soon as we balanced the set, we gained some accuracy and some recall, but we lost some precision. Accuracy is an important metric when we are dealing with balanced test set, but it's not that reliable when dealing with unbalanced sets. By looking at the confusion matrix, we can see how when using the balanced set, the classes are overall well identified; notice that the model is facing issues when classifying entries from classes 2 (Gianluca) and 3  - it can be visualized because of a darker blu 2x2 matrix when classifying the two classes. \n",
    "\n",
    "Despite the balancing, if we look to the F1 score we can see that it hasn't changed that much, but if we look to Precision and Recall we can see that they are way more balanced - the improving Recall may indicates that the model is classifying better minority classes, while the decreasing Precision may indicates that the model makes more mistakes due to the balancing."
   ]
  },
  {
   "cell_type": "markdown",
   "metadata": {},
   "source": [
    "#### Create Playlist"
   ]
  },
  {
   "cell_type": "markdown",
   "metadata": {},
   "source": [
    "To create the final plylist, we will start from the classification obtained from the balanced test set."
   ]
  },
  {
   "cell_type": "code",
   "execution_count": 62,
   "metadata": {},
   "outputs": [
    {
     "data": {
      "text/html": [
       "<div>\n",
       "<style scoped>\n",
       "    .dataframe tbody tr th:only-of-type {\n",
       "        vertical-align: middle;\n",
       "    }\n",
       "\n",
       "    .dataframe tbody tr th {\n",
       "        vertical-align: top;\n",
       "    }\n",
       "\n",
       "    .dataframe thead th {\n",
       "        text-align: right;\n",
       "    }\n",
       "</style>\n",
       "<table border=\"1\" class=\"dataframe\">\n",
       "  <thead>\n",
       "    <tr style=\"text-align: right;\">\n",
       "      <th></th>\n",
       "      <th>Track</th>\n",
       "      <th>predicted_Tag</th>\n",
       "    </tr>\n",
       "  </thead>\n",
       "  <tbody>\n",
       "    <tr>\n",
       "      <th>1810</th>\n",
       "      <td>(It Goes Like) Nanana</td>\n",
       "      <td>Andrea</td>\n",
       "    </tr>\n",
       "    <tr>\n",
       "      <th>1042</th>\n",
       "      <td>APPLAUSE - TECHNO</td>\n",
       "      <td>Andrea</td>\n",
       "    </tr>\n",
       "    <tr>\n",
       "      <th>812</th>\n",
       "      <td>Akuma</td>\n",
       "      <td>Andrea</td>\n",
       "    </tr>\n",
       "    <tr>\n",
       "      <th>2723</th>\n",
       "      <td>All Fired Up</td>\n",
       "      <td>Andrea</td>\n",
       "    </tr>\n",
       "    <tr>\n",
       "      <th>3008</th>\n",
       "      <td>Atmosferic</td>\n",
       "      <td>Andrea</td>\n",
       "    </tr>\n",
       "  </tbody>\n",
       "</table>\n",
       "</div>"
      ],
      "text/plain": [
       "                      Track predicted_Tag\n",
       "1810  (It Goes Like) Nanana        Andrea\n",
       "1042      APPLAUSE - TECHNO        Andrea\n",
       "812                   Akuma        Andrea\n",
       "2723           All Fired Up        Andrea\n",
       "3008             Atmosferic        Andrea"
      ]
     },
     "execution_count": 62,
     "metadata": {},
     "output_type": "execute_result"
    }
   ],
   "source": [
    "playlists_data = test_resampled[['Track','predicted_Tag']]\n",
    "playlists_data = playlists_data.sort_values(['predicted_Tag', 'Track'])\n",
    "\n",
    "# initialize an empty dataframe which will contains the top 20 songs\n",
    "top_20 = pd.DataFrame()\n",
    "\n",
    "# iterate over the tags, for each tag we are gonna add to the dataframe the first 20 songs\n",
    "for tag in playlists_data['predicted_Tag'].unique():\n",
    "    tag_playlist = playlists_data[playlists_data['predicted_Tag'] == tag].head(20)\n",
    "    top_20 = pd.concat([top_20, tag_playlist])\n",
    "\n",
    "# we don't need to display any features beyond the track name and the tag\n",
    "top_20 = top_20[['Track', 'predicted_Tag']]\n",
    "top_20.head()"
   ]
  },
  {
   "cell_type": "markdown",
   "metadata": {},
   "source": [
    "### Random Forest"
   ]
  },
  {
   "cell_type": "markdown",
   "metadata": {},
   "source": [
    "Random Forest is an Ensemble learnign method for classification, which takes advantage of many Decision Trees."
   ]
  },
  {
   "cell_type": "code",
   "execution_count": 63,
   "metadata": {},
   "outputs": [
    {
     "data": {
      "text/html": [
       "<style>#sk-container-id-7 {color: black;background-color: white;}#sk-container-id-7 pre{padding: 0;}#sk-container-id-7 div.sk-toggleable {background-color: white;}#sk-container-id-7 label.sk-toggleable__label {cursor: pointer;display: block;width: 100%;margin-bottom: 0;padding: 0.3em;box-sizing: border-box;text-align: center;}#sk-container-id-7 label.sk-toggleable__label-arrow:before {content: \"▸\";float: left;margin-right: 0.25em;color: #696969;}#sk-container-id-7 label.sk-toggleable__label-arrow:hover:before {color: black;}#sk-container-id-7 div.sk-estimator:hover label.sk-toggleable__label-arrow:before {color: black;}#sk-container-id-7 div.sk-toggleable__content {max-height: 0;max-width: 0;overflow: hidden;text-align: left;background-color: #f0f8ff;}#sk-container-id-7 div.sk-toggleable__content pre {margin: 0.2em;color: black;border-radius: 0.25em;background-color: #f0f8ff;}#sk-container-id-7 input.sk-toggleable__control:checked~div.sk-toggleable__content {max-height: 200px;max-width: 100%;overflow: auto;}#sk-container-id-7 input.sk-toggleable__control:checked~label.sk-toggleable__label-arrow:before {content: \"▾\";}#sk-container-id-7 div.sk-estimator input.sk-toggleable__control:checked~label.sk-toggleable__label {background-color: #d4ebff;}#sk-container-id-7 div.sk-label input.sk-toggleable__control:checked~label.sk-toggleable__label {background-color: #d4ebff;}#sk-container-id-7 input.sk-hidden--visually {border: 0;clip: rect(1px 1px 1px 1px);clip: rect(1px, 1px, 1px, 1px);height: 1px;margin: -1px;overflow: hidden;padding: 0;position: absolute;width: 1px;}#sk-container-id-7 div.sk-estimator {font-family: monospace;background-color: #f0f8ff;border: 1px dotted black;border-radius: 0.25em;box-sizing: border-box;margin-bottom: 0.5em;}#sk-container-id-7 div.sk-estimator:hover {background-color: #d4ebff;}#sk-container-id-7 div.sk-parallel-item::after {content: \"\";width: 100%;border-bottom: 1px solid gray;flex-grow: 1;}#sk-container-id-7 div.sk-label:hover label.sk-toggleable__label {background-color: #d4ebff;}#sk-container-id-7 div.sk-serial::before {content: \"\";position: absolute;border-left: 1px solid gray;box-sizing: border-box;top: 0;bottom: 0;left: 50%;z-index: 0;}#sk-container-id-7 div.sk-serial {display: flex;flex-direction: column;align-items: center;background-color: white;padding-right: 0.2em;padding-left: 0.2em;position: relative;}#sk-container-id-7 div.sk-item {position: relative;z-index: 1;}#sk-container-id-7 div.sk-parallel {display: flex;align-items: stretch;justify-content: center;background-color: white;position: relative;}#sk-container-id-7 div.sk-item::before, #sk-container-id-7 div.sk-parallel-item::before {content: \"\";position: absolute;border-left: 1px solid gray;box-sizing: border-box;top: 0;bottom: 0;left: 50%;z-index: -1;}#sk-container-id-7 div.sk-parallel-item {display: flex;flex-direction: column;z-index: 1;position: relative;background-color: white;}#sk-container-id-7 div.sk-parallel-item:first-child::after {align-self: flex-end;width: 50%;}#sk-container-id-7 div.sk-parallel-item:last-child::after {align-self: flex-start;width: 50%;}#sk-container-id-7 div.sk-parallel-item:only-child::after {width: 0;}#sk-container-id-7 div.sk-dashed-wrapped {border: 1px dashed gray;margin: 0 0.4em 0.5em 0.4em;box-sizing: border-box;padding-bottom: 0.4em;background-color: white;}#sk-container-id-7 div.sk-label label {font-family: monospace;font-weight: bold;display: inline-block;line-height: 1.2em;}#sk-container-id-7 div.sk-label-container {text-align: center;}#sk-container-id-7 div.sk-container {/* jupyter's `normalize.less` sets `[hidden] { display: none; }` but bootstrap.min.css set `[hidden] { display: none !important; }` so we also need the `!important` here to be able to override the default hidden behavior on the sphinx rendered scikit-learn.org. See: https://github.com/scikit-learn/scikit-learn/issues/21755 */display: inline-block !important;position: relative;}#sk-container-id-7 div.sk-text-repr-fallback {display: none;}</style><div id=\"sk-container-id-7\" class=\"sk-top-container\"><div class=\"sk-text-repr-fallback\"><pre>RandomForestClassifier(random_state=42)</pre><b>In a Jupyter environment, please rerun this cell to show the HTML representation or trust the notebook. <br />On GitHub, the HTML representation is unable to render, please try loading this page with nbviewer.org.</b></div><div class=\"sk-container\" hidden><div class=\"sk-item\"><div class=\"sk-estimator sk-toggleable\"><input class=\"sk-toggleable__control sk-hidden--visually\" id=\"sk-estimator-id-7\" type=\"checkbox\" checked><label for=\"sk-estimator-id-7\" class=\"sk-toggleable__label sk-toggleable__label-arrow\">RandomForestClassifier</label><div class=\"sk-toggleable__content\"><pre>RandomForestClassifier(random_state=42)</pre></div></div></div></div></div>"
      ],
      "text/plain": [
       "RandomForestClassifier(random_state=42)"
      ]
     },
     "execution_count": 63,
     "metadata": {},
     "output_type": "execute_result"
    }
   ],
   "source": [
    "# retrieve train set\n",
    "X_train = train_data[features]\n",
    "y_train = train_data['Tag']\n",
    "# retrieve test set\n",
    "X_test = test_data[features]\n",
    "y_test = test_data['Tag']\n",
    "\n",
    "# train the model\n",
    "rf_model = RandomForestClassifier(random_state=42)\n",
    "rf_model.fit(X_train, y_train)"
   ]
  },
  {
   "cell_type": "markdown",
   "metadata": {},
   "source": [
    "#### Predictions with unbalanced test set"
   ]
  },
  {
   "cell_type": "code",
   "execution_count": 64,
   "metadata": {},
   "outputs": [
    {
     "name": "stdout",
     "output_type": "stream",
     "text": [
      "Accuracy: 0.8036709275647329\n",
      "Precision: 0.8485815050871336\n",
      "Recall: 0.8036709275647329\n",
      "F1-Score: 0.817479234063367\n"
     ]
    },
    {
     "data": {
      "image/png": "[encoded data removed]",
      "text/plain": [
       "<Figure size 640x480 with 1 Axes>"
      ]
     },
     "metadata": {},
     "output_type": "display_data"
    }
   ],
   "source": [
    "# Evaluate model performance on the validation set\n",
    "y_pred = rf_model.predict(X_test)\n",
    "test_data['predicted_Tag'] = y_pred\n",
    "\n",
    "precision = precision_score(y_test, y_pred, average='weighted')\n",
    "recall = recall_score(y_test, y_pred, average='weighted')\n",
    "f1 = f1_score(y_test, y_pred, average='weighted')\n",
    "accuracy = accuracy_score(y_test, y_pred)\n",
    "\n",
    "print(f'Accuracy: {accuracy}')\n",
    "print(f'Precision: {precision}')\n",
    "print(f'Recall: {recall}')\n",
    "print(f'F1-Score: {f1}')\n",
    "\n",
    "cm = confusion_matrix(y_test, y_pred)\n",
    "sns.heatmap(cm, annot=True, fmt='d', cmap='Blues', cbar=False)\n",
    "plt.xlabel('Predicted Labels')\n",
    "plt.ylabel('True Labels')\n",
    "plt.title('Confusion Matrix')\n",
    "plt.show()"
   ]
  },
  {
   "cell_type": "markdown",
   "metadata": {},
   "source": [
    "#### Prediction with balanced test set"
   ]
  },
  {
   "cell_type": "code",
   "execution_count": 65,
   "metadata": {},
   "outputs": [
    {
     "name": "stdout",
     "output_type": "stream",
     "text": [
      "Accuracy: 0.8270833333333333\n",
      "Precision: 0.8310505641092931\n",
      "Recall: 0.8270833333333333\n",
      "F1-Score: 0.8281796755240012\n"
     ]
    },
    {
     "data": {
      "image/png": "[encoded data removed]",
      "text/plain": [
       "<Figure size 640x480 with 1 Axes>"
      ]
     },
     "metadata": {},
     "output_type": "display_data"
    }
   ],
   "source": [
    "# Evaluate model performance on the validation set\n",
    "y_pred = rf_model.predict(X_test_bal)\n",
    "test_resampled['predicted_Tag'] = y_pred\n",
    "\n",
    "precision = precision_score(y_test_bal, y_pred, average='weighted')\n",
    "recall = recall_score(y_test_bal, y_pred, average='weighted')\n",
    "f1 = f1_score(y_test_bal, y_pred, average='weighted')\n",
    "accuracy = accuracy_score(y_test_bal, y_pred)\n",
    "\n",
    "print(f'Accuracy: {accuracy}')\n",
    "print(f'Precision: {precision}')\n",
    "print(f'Recall: {recall}')\n",
    "print(f'F1-Score: {f1}')\n",
    "\n",
    "cm = confusion_matrix(y_test_bal, y_pred)\n",
    "sns.heatmap(cm, annot=True, fmt='d', cmap='Blues', cbar=False)\n",
    "plt.xlabel('Predicted Labels')\n",
    "plt.ylabel('True Labels')\n",
    "plt.title('Confusion Matrix')\n",
    "plt.show()"
   ]
  },
  {
   "cell_type": "markdown",
   "metadata": {},
   "source": [
    "#### Comparison"
   ]
  },
  {
   "cell_type": "markdown",
   "metadata": {},
   "source": [
    "By a first lool to the results it doesn't seem like there are huge changes between the two predictions, but the second model overcomes the first in almost any metric (Precision excluded, but this always happens when rebalancing the test set). This model works better on the balanced set and allows us to have a very good performance despite the bad test set.   \n",
    "\n",
    "When working on the balanced set we can see that also in this model there is a darker 2x2 around the classes 2 and 3, so this model is facing issues when it has to identify these two classes.\n",
    "\n",
    "This result is reasonable because Random Forest is a good model when it comes to perform classification on dataset with data not well organized and not homogeneus."
   ]
  },
  {
   "cell_type": "markdown",
   "metadata": {},
   "source": [
    "#### Create the playlist"
   ]
  },
  {
   "cell_type": "markdown",
   "metadata": {},
   "source": [
    "We will create the playlist starting from the predictions obtained from the unbalanced set."
   ]
  },
  {
   "cell_type": "code",
   "execution_count": 66,
   "metadata": {},
   "outputs": [
    {
     "data": {
      "text/html": [
       "<div>\n",
       "<style scoped>\n",
       "    .dataframe tbody tr th:only-of-type {\n",
       "        vertical-align: middle;\n",
       "    }\n",
       "\n",
       "    .dataframe tbody tr th {\n",
       "        vertical-align: top;\n",
       "    }\n",
       "\n",
       "    .dataframe thead th {\n",
       "        text-align: right;\n",
       "    }\n",
       "</style>\n",
       "<table border=\"1\" class=\"dataframe\">\n",
       "  <thead>\n",
       "    <tr style=\"text-align: right;\">\n",
       "      <th></th>\n",
       "      <th>Track</th>\n",
       "      <th>predicted_Tag</th>\n",
       "    </tr>\n",
       "  </thead>\n",
       "  <tbody>\n",
       "    <tr>\n",
       "      <th>1810</th>\n",
       "      <td>(It Goes Like) Nanana</td>\n",
       "      <td>Andrea</td>\n",
       "    </tr>\n",
       "    <tr>\n",
       "      <th>475</th>\n",
       "      <td>A New Generation</td>\n",
       "      <td>Andrea</td>\n",
       "    </tr>\n",
       "    <tr>\n",
       "      <th>2319</th>\n",
       "      <td>ADESTE FIDELES</td>\n",
       "      <td>Andrea</td>\n",
       "    </tr>\n",
       "    <tr>\n",
       "      <th>1042</th>\n",
       "      <td>APPLAUSE - TECHNO</td>\n",
       "      <td>Andrea</td>\n",
       "    </tr>\n",
       "    <tr>\n",
       "      <th>642</th>\n",
       "      <td>Above The Clouds</td>\n",
       "      <td>Andrea</td>\n",
       "    </tr>\n",
       "  </tbody>\n",
       "</table>\n",
       "</div>"
      ],
      "text/plain": [
       "                      Track predicted_Tag\n",
       "1810  (It Goes Like) Nanana        Andrea\n",
       "475        A New Generation        Andrea\n",
       "2319         ADESTE FIDELES        Andrea\n",
       "1042      APPLAUSE - TECHNO        Andrea\n",
       "642        Above The Clouds        Andrea"
      ]
     },
     "execution_count": 66,
     "metadata": {},
     "output_type": "execute_result"
    }
   ],
   "source": [
    "playlists_data = test_data[['Track','predicted_Tag']]\n",
    "playlists_data = playlists_data.sort_values(['predicted_Tag', 'Track'])\n",
    "\n",
    "# initialize an empty dataframe which will contains the top 20 songs\n",
    "top_20 = pd.DataFrame()\n",
    "\n",
    "# iterate over the tags, for each tag we are gonna add to the dataframe the first 20 songs\n",
    "for tag in playlists_data['predicted_Tag'].unique():\n",
    "    tag_playlist = playlists_data[playlists_data['predicted_Tag'] == tag].head(20)\n",
    "    top_20 = pd.concat([top_20, tag_playlist])\n",
    "\n",
    "# we don't need to display any features beyond the track name and the tag\n",
    "top_20 = top_20[['Track', 'predicted_Tag']]\n",
    "top_20.head()"
   ]
  },
  {
   "cell_type": "markdown",
   "metadata": {},
   "source": [
    "### KNN"
   ]
  },
  {
   "cell_type": "markdown",
   "metadata": {},
   "source": [
    "Since we chose different music genres, we would expect that songs are well divided and organized in clusters, so we would expect good performance also from algorithms based on the neighborhoods of the points. Notice that the test set is unbalanced, hence I will perform the analysis with both balanced and unblanaced test set and later we will discuss the differences."
   ]
  },
  {
   "cell_type": "markdown",
   "metadata": {},
   "source": [
    "We have to find the best _k_ in order to apply our KNN algorithm, and we will do this with the GridSearch method: it is a hyperparameter tuning technique used to find the best combination of hyperparameter values for a machine learning model."
   ]
  },
  {
   "cell_type": "code",
   "execution_count": 66,
   "metadata": {},
   "outputs": [
    {
     "data": {
      "text/html": [
       "<style>#sk-container-id-9 {color: black;background-color: white;}#sk-container-id-9 pre{padding: 0;}#sk-container-id-9 div.sk-toggleable {background-color: white;}#sk-container-id-9 label.sk-toggleable__label {cursor: pointer;display: block;width: 100%;margin-bottom: 0;padding: 0.3em;box-sizing: border-box;text-align: center;}#sk-container-id-9 label.sk-toggleable__label-arrow:before {content: \"▸\";float: left;margin-right: 0.25em;color: #696969;}#sk-container-id-9 label.sk-toggleable__label-arrow:hover:before {color: black;}#sk-container-id-9 div.sk-estimator:hover label.sk-toggleable__label-arrow:before {color: black;}#sk-container-id-9 div.sk-toggleable__content {max-height: 0;max-width: 0;overflow: hidden;text-align: left;background-color: #f0f8ff;}#sk-container-id-9 div.sk-toggleable__content pre {margin: 0.2em;color: black;border-radius: 0.25em;background-color: #f0f8ff;}#sk-container-id-9 input.sk-toggleable__control:checked~div.sk-toggleable__content {max-height: 200px;max-width: 100%;overflow: auto;}#sk-container-id-9 input.sk-toggleable__control:checked~label.sk-toggleable__label-arrow:before {content: \"▾\";}#sk-container-id-9 div.sk-estimator input.sk-toggleable__control:checked~label.sk-toggleable__label {background-color: #d4ebff;}#sk-container-id-9 div.sk-label input.sk-toggleable__control:checked~label.sk-toggleable__label {background-color: #d4ebff;}#sk-container-id-9 input.sk-hidden--visually {border: 0;clip: rect(1px 1px 1px 1px);clip: rect(1px, 1px, 1px, 1px);height: 1px;margin: -1px;overflow: hidden;padding: 0;position: absolute;width: 1px;}#sk-container-id-9 div.sk-estimator {font-family: monospace;background-color: #f0f8ff;border: 1px dotted black;border-radius: 0.25em;box-sizing: border-box;margin-bottom: 0.5em;}#sk-container-id-9 div.sk-estimator:hover {background-color: #d4ebff;}#sk-container-id-9 div.sk-parallel-item::after {content: \"\";width: 100%;border-bottom: 1px solid gray;flex-grow: 1;}#sk-container-id-9 div.sk-label:hover label.sk-toggleable__label {background-color: #d4ebff;}#sk-container-id-9 div.sk-serial::before {content: \"\";position: absolute;border-left: 1px solid gray;box-sizing: border-box;top: 0;bottom: 0;left: 50%;z-index: 0;}#sk-container-id-9 div.sk-serial {display: flex;flex-direction: column;align-items: center;background-color: white;padding-right: 0.2em;padding-left: 0.2em;position: relative;}#sk-container-id-9 div.sk-item {position: relative;z-index: 1;}#sk-container-id-9 div.sk-parallel {display: flex;align-items: stretch;justify-content: center;background-color: white;position: relative;}#sk-container-id-9 div.sk-item::before, #sk-container-id-9 div.sk-parallel-item::before {content: \"\";position: absolute;border-left: 1px solid gray;box-sizing: border-box;top: 0;bottom: 0;left: 50%;z-index: -1;}#sk-container-id-9 div.sk-parallel-item {display: flex;flex-direction: column;z-index: 1;position: relative;background-color: white;}#sk-container-id-9 div.sk-parallel-item:first-child::after {align-self: flex-end;width: 50%;}#sk-container-id-9 div.sk-parallel-item:last-child::after {align-self: flex-start;width: 50%;}#sk-container-id-9 div.sk-parallel-item:only-child::after {width: 0;}#sk-container-id-9 div.sk-dashed-wrapped {border: 1px dashed gray;margin: 0 0.4em 0.5em 0.4em;box-sizing: border-box;padding-bottom: 0.4em;background-color: white;}#sk-container-id-9 div.sk-label label {font-family: monospace;font-weight: bold;display: inline-block;line-height: 1.2em;}#sk-container-id-9 div.sk-label-container {text-align: center;}#sk-container-id-9 div.sk-container {/* jupyter's `normalize.less` sets `[hidden] { display: none; }` but bootstrap.min.css set `[hidden] { display: none !important; }` so we also need the `!important` here to be able to override the default hidden behavior on the sphinx rendered scikit-learn.org. See: https://github.com/scikit-learn/scikit-learn/issues/21755 */display: inline-block !important;position: relative;}#sk-container-id-9 div.sk-text-repr-fallback {display: none;}</style><div id=\"sk-container-id-9\" class=\"sk-top-container\"><div class=\"sk-text-repr-fallback\"><pre>KNeighborsClassifier(n_neighbors=7)</pre><b>In a Jupyter environment, please rerun this cell to show the HTML representation or trust the notebook. <br />On GitHub, the HTML representation is unable to render, please try loading this page with nbviewer.org.</b></div><div class=\"sk-container\" hidden><div class=\"sk-item\"><div class=\"sk-estimator sk-toggleable\"><input class=\"sk-toggleable__control sk-hidden--visually\" id=\"sk-estimator-id-9\" type=\"checkbox\" checked><label for=\"sk-estimator-id-9\" class=\"sk-toggleable__label sk-toggleable__label-arrow\">KNeighborsClassifier</label><div class=\"sk-toggleable__content\"><pre>KNeighborsClassifier(n_neighbors=7)</pre></div></div></div></div></div>"
      ],
      "text/plain": [
       "KNeighborsClassifier(n_neighbors=7)"
      ]
     },
     "execution_count": 66,
     "metadata": {},
     "output_type": "execute_result"
    }
   ],
   "source": [
    "# choose some values (odd) for K over which we are gonna iterate in order to find the best k\n",
    "k_values = [3, 5, 7, 9]\n",
    "\n",
    "param_grid = {'n_neighbors': k_values}\n",
    "# use gridsearch in order to find the best k\n",
    "\n",
    "grid_search = GridSearchCV(KNeighborsClassifier(), param_grid, cv=5)\n",
    "grid_search.fit(X_train, y_train)\n",
    "\n",
    "# find the best k\n",
    "best_k = grid_search.best_params_['n_neighbors']\n",
    "\n",
    "# train model\n",
    "knn = KNeighborsClassifier(n_neighbors=best_k)\n",
    "knn.fit(X_train, y_train)"
   ]
  },
  {
   "cell_type": "markdown",
   "metadata": {},
   "source": [
    "Now that we have the best k and we trained it, we have to make our prediction on the test set. Since our dataset is unbalanced, first we will make our prediction with the unabalance dataset and later we will balance and see what changes."
   ]
  },
  {
   "cell_type": "markdown",
   "metadata": {},
   "source": [
    "#### Prediction with unbalanced test set"
   ]
  },
  {
   "cell_type": "markdown",
   "metadata": {},
   "source": [
    "Then we make our predictions, always using our best k."
   ]
  },
  {
   "cell_type": "code",
   "execution_count": 67,
   "metadata": {},
   "outputs": [
    {
     "name": "stdout",
     "output_type": "stream",
     "text": [
      "Accuracy: 0.3917\n",
      "F1 Score: 0.4219\n"
     ]
    },
    {
     "data": {
      "image/png": "[encoded data removed]",
      "text/plain": [
       "<Figure size 640x480 with 1 Axes>"
      ]
     },
     "metadata": {},
     "output_type": "display_data"
    }
   ],
   "source": [
    "# test the model\n",
    "y_pred = knn.predict(X_test)\n",
    "# compute some useful metrics\n",
    "accuracy = accuracy_score(y_test, y_pred)\n",
    "f1 = f1_score(y_test, y_pred, average='weighted')\n",
    "\n",
    "print(f\"Accuracy: {accuracy:.4f}\")\n",
    "print(f\"F1 Score: {f1:.4f}\")\n",
    "\n",
    "cm = confusion_matrix(y_test, y_pred)\n",
    "sns.heatmap(cm, annot=True, fmt='d', cmap='Blues', cbar=False)\n",
    "plt.xlabel('Predicted Labels')\n",
    "plt.ylabel('True Labels')\n",
    "plt.title('Confusion Matrix')\n",
    "plt.show()"
   ]
  },
  {
   "cell_type": "markdown",
   "metadata": {},
   "source": [
    "#### Prediction with balanced test set"
   ]
  },
  {
   "cell_type": "markdown",
   "metadata": {},
   "source": [
    "We make our predictions tooking advantage of the X_test_bal test set (balanced) we previously built in the pre-processing."
   ]
  },
  {
   "cell_type": "code",
   "execution_count": 72,
   "metadata": {},
   "outputs": [
    {
     "name": "stdout",
     "output_type": "stream",
     "text": [
      "Accuracy: 0.5167\n",
      "F1 Score: 0.5199\n"
     ]
    },
    {
     "data": {
      "image/png": "[encoded data removed]",
      "text/plain": [
       "<Figure size 640x480 with 1 Axes>"
      ]
     },
     "metadata": {},
     "output_type": "display_data"
    }
   ],
   "source": [
    "# test the model\n",
    "y_pred_bal = knn.predict(X_test_bal)\n",
    "# compute some useful metrics\n",
    "accuracy = accuracy_score(y_test_bal, y_pred_bal)\n",
    "f1 = f1_score(y_test_bal, y_pred_bal, average='weighted')\n",
    "\n",
    "print(f\"Accuracy: {accuracy:.4f}\")\n",
    "print(f\"F1 Score: {f1:.4f}\")\n",
    "\n",
    "cm = confusion_matrix(y_test_bal, y_pred_bal)\n",
    "sns.heatmap(cm, annot=True, fmt='d', cmap='Blues', cbar=False)\n",
    "plt.xlabel('Predicted Labels')\n",
    "plt.ylabel('True Labels')\n",
    "plt.title('Confusion Matrix')\n",
    "plt.show()"
   ]
  },
  {
   "cell_type": "markdown",
   "metadata": {},
   "source": [
    "#### Comparison"
   ]
  },
  {
   "cell_type": "markdown",
   "metadata": {},
   "source": [
    "By looking at the results above, we can see how the accuracy increases as soon as we balance our test set, but not that much. From this low accuracy we can say that our data aren't organized in clusters and there are many overlapping between classes, hence the cassification by looking at the neighbours is not optimal.\n",
    "\n",
    "When dealing with unbalanced data accuracy isn't a reliable metrics -as seen it decreased- but we can look the confusion matrix and the F1 score. In the confusion matric obtained from the umbalanced test set we can say that there are a lot of misinterpreted class - highilghted from a darker color - which is a consequence of the fact that those two classes are way more numerous than the other 3. Instead, by looking at the confusion matrix obtained from the balanced dataset, we can see how the darker colors are on the diagonal - it means that the algorithm can assign better the labels.\n",
    "\n",
    "Moreover, it's obvious that also this algorithm has issues with the class 2 and 3, confirming the trend we had seen in the previous confusion matrixes."
   ]
  },
  {
   "cell_type": "markdown",
   "metadata": {},
   "source": [
    "#### Create playlist"
   ]
  },
  {
   "cell_type": "markdown",
   "metadata": {},
   "source": [
    "Enstablished that the KNN works better with a Balance test set, we can know go on and build our playlists."
   ]
  },
  {
   "cell_type": "code",
   "execution_count": 73,
   "metadata": {},
   "outputs": [
    {
     "data": {
      "text/html": [
       "<div>\n",
       "<style scoped>\n",
       "    .dataframe tbody tr th:only-of-type {\n",
       "        vertical-align: middle;\n",
       "    }\n",
       "\n",
       "    .dataframe tbody tr th {\n",
       "        vertical-align: top;\n",
       "    }\n",
       "\n",
       "    .dataframe thead th {\n",
       "        text-align: right;\n",
       "    }\n",
       "</style>\n",
       "<table border=\"1\" class=\"dataframe\">\n",
       "  <thead>\n",
       "    <tr style=\"text-align: right;\">\n",
       "      <th></th>\n",
       "      <th>Track</th>\n",
       "      <th>predicted_Tag</th>\n",
       "    </tr>\n",
       "  </thead>\n",
       "  <tbody>\n",
       "    <tr>\n",
       "      <th>962</th>\n",
       "      <td>A Little Less Sixteen Candles, A Little More \"...</td>\n",
       "      <td>Andrea</td>\n",
       "    </tr>\n",
       "    <tr>\n",
       "      <th>2183</th>\n",
       "      <td>A Warm Welcome</td>\n",
       "      <td>Andrea</td>\n",
       "    </tr>\n",
       "    <tr>\n",
       "      <th>2319</th>\n",
       "      <td>ADESTE FIDELES</td>\n",
       "      <td>Andrea</td>\n",
       "    </tr>\n",
       "    <tr>\n",
       "      <th>1000</th>\n",
       "      <td>Abyss of Light</td>\n",
       "      <td>Andrea</td>\n",
       "    </tr>\n",
       "    <tr>\n",
       "      <th>2489</th>\n",
       "      <td>All I Ever Wanted (Techno)</td>\n",
       "      <td>Andrea</td>\n",
       "    </tr>\n",
       "  </tbody>\n",
       "</table>\n",
       "</div>"
      ],
      "text/plain": [
       "                                                  Track predicted_Tag\n",
       "962   A Little Less Sixteen Candles, A Little More \"...        Andrea\n",
       "2183                                     A Warm Welcome        Andrea\n",
       "2319                                     ADESTE FIDELES        Andrea\n",
       "1000                                     Abyss of Light        Andrea\n",
       "2489                         All I Ever Wanted (Techno)        Andrea"
      ]
     },
     "execution_count": 73,
     "metadata": {},
     "output_type": "execute_result"
    }
   ],
   "source": [
    "# add the columns with the predictions, this will be usefull later when we will create the playlists\n",
    "test_resampled['predicted_Tag'] = y_pred_bal\n",
    "\n",
    "playlists_data = test_resampled.drop_duplicates()\n",
    "playlists_data = playlists_data.sort_values(['predicted_Tag', 'Track'])\n",
    "\n",
    "# initialize an empty dataframe which will contains the top 20 songs\n",
    "top_20 = pd.DataFrame()\n",
    "\n",
    "# iterate over the tags, for each tag we are gonna add to the dataframe the first 20 songs\n",
    "for tag in playlists_data['predicted_Tag'].unique():\n",
    "    tag_playlist = playlists_data[playlists_data['predicted_Tag'] == tag].head(20)\n",
    "    top_20 = pd.concat([top_20, tag_playlist])\n",
    "\n",
    "# we don't need to display any features beyond the track name and the tag\n",
    "top_20 = top_20[['Track', 'predicted_Tag']]\n",
    "top_20.head()"
   ]
  },
  {
   "cell_type": "markdown",
   "metadata": {},
   "source": [
    "## (Half-) Unsupervised Learning"
   ]
  },
  {
   "cell_type": "markdown",
   "metadata": {},
   "source": [
    "We know that the K-Means is an unsupervised learning algorithm. In fact, we used the K-Means algorithm in order to group the songs in clusters, but later, given that we have to build some playlists (1 for each one of us) we needed some labels. Hence, we took advantage of the label we previously added and for each cluster we found the label with the higher count: given that label, we will assign that label to each song in that cluster. This is not a very good way to perform the classification - as we will show later - but it's the only way that allows us to create these playlist.\n",
    "\n",
    "As a matter of fact, we called it _Half_ unsupervised because once we assign a cluster to each song (via K-Means) we assign a label to each cluster, making a true classification of the songs: in the end each song will be assigned to one of us, hence there will be a proper classification despite we started with an unsupervised earning algorithm."
   ]
  },
  {
   "cell_type": "markdown",
   "metadata": {},
   "source": [
    "### K-Means"
   ]
  },
  {
   "cell_type": "markdown",
   "metadata": {},
   "source": [
    "To properly perform the clustering and the classification of the songs we have to find the best value for _k_ - which is the number of clusters. In order to do this, we chose a range of values for _k_ and through the **elbow method** -a graphical way- we found the best one.\n",
    "\n",
    "With the **elbow method** we define a range of values for _k_ and then for each one we applied the K-Means algorithm. We saved both results in two arrays (**inertias** and **silhouette**). Now we will describe both."
   ]
  },
  {
   "cell_type": "markdown",
   "metadata": {},
   "source": [
    "### Inertia\n",
    "\n",
    "represents the sum of squared distances between each data point in a cluster and the centroid of that cluster, hence it's a measure of the compactness of the clusters:\n",
    "\n",
    "$I_i = \\sum_{j=1}^{n_i} \\lVert x_{ij} - \\mu_i \\rVert^2$\n",
    "\n",
    "\n",
    "Where:\n",
    "- $x_{ij}$ is the $j-th$ data point in cluster $C_i$, \n",
    "- $\\mu_i$ is the centroid of cluster $C_i$,\n",
    "- $\\lVert \\cdot \\rVert^2$ denotes the squared Euclidean distance."
   ]
  },
  {
   "cell_type": "markdown",
   "metadata": {},
   "source": [
    "### Silhouette score\n",
    "It's metric used to measure how well-defined the clustering. It provides a way to assess the quality of the clustering result by considering both the _cohesion_ within clusters and the _separation_ between clusters.\n",
    "\n",
    "The silhouette score for a single data point i is defined as:\n",
    "$s(i) = \\frac{b(i) - a(i)}{\\max\\{a(i), b(i)\\}}$\n",
    "\n",
    "\n",
    "Where:\n",
    "- a(i) is the **cohesion**, or rather the average distance from the \\(i\\)-th data point to other points in the same cluster;\n",
    "- b(i) is the **separation**, or better the average distance from the \\(i\\)-th data point to points in the nearest cluster.\n",
    "\n",
    "\n",
    "We can define the Silhouette score for the entire dataset as follows:\n",
    "\n",
    "$S = \\frac{1}{N} \\sum_{i=1}^{N} s(i)$\n",
    "\n",
    "The silhouette score ranges from -1 to 1, the higher it is the better the algorithm is, in fact when we are looking for the best _k_ we want the value which maximizes this score:\n",
    "- A score close to 1 indicates that the object is well matched to its own cluster;\n",
    "- A score of 0 indicates that the object is very close to the decision boundary between two neighboring clusters;\n",
    "- A score towards -1 indicates that the object might be better assigned to a neighboring cluster.\n",
    " \n"
   ]
  },
  {
   "cell_type": "markdown",
   "metadata": {},
   "source": [
    "Givene these scores, if we follow the elbow method to find the best _k_ we have to find the value which maximizes the silhouette score and where the Inertia starts flattening.\n",
    "\n",
    "Later, we will show how we implemented this revised K-Means algorithm"
   ]
  },
  {
   "cell_type": "code",
   "execution_count": 74,
   "metadata": {},
   "outputs": [],
   "source": [
    "k_values = range(2, 20)  \n",
    "# in order to find the best k we need to save for each k what score we do get\n",
    "inertias = []\n",
    "silhouette_scores = []"
   ]
  },
  {
   "cell_type": "markdown",
   "metadata": {},
   "source": [
    "Then, we apply the K-Means model to each k from k_values and for each iteration we save the scores in the arrays previously initialized."
   ]
  },
  {
   "cell_type": "code",
   "execution_count": 75,
   "metadata": {},
   "outputs": [],
   "source": [
    "# iterate over the values for k\n",
    "for k in k_values:\n",
    "    # run the model and append the results\n",
    "    kmeans = KMeans(n_clusters=k, random_state=42)\n",
    "    kmeans.fit(X_train)\n",
    "    inertias.append(kmeans.inertia_)\n",
    "    silhouette_scores.append(silhouette_score(X_train, kmeans.labels_))"
   ]
  },
  {
   "cell_type": "markdown",
   "metadata": {},
   "source": [
    "Once done this, we can show the plot regarding the Silhouette score and the Inertia."
   ]
  },
  {
   "cell_type": "code",
   "execution_count": 76,
   "metadata": {},
   "outputs": [
    {
     "data": {
      "image/png": "[encoded data removed]",
      "text/plain": [
       "<Figure size 1000x500 with 2 Axes>"
      ]
     },
     "metadata": {},
     "output_type": "display_data"
    }
   ],
   "source": [
    "# below, we will show two plot regarding how 'inertia' and 'silhouette_scores' changes along with the k\n",
    "plt.figure(figsize=(10, 5))\n",
    "\n",
    "# intertia plot\n",
    "plt.subplot(1, 2, 1)\n",
    "plt.plot(k_values, inertias, marker='o')\n",
    "plt.title('Inertia')\n",
    "plt.xlabel('Number of Clusters (k)')\n",
    "plt.ylabel('Inertia')\n",
    "\n",
    "# silhouette plot\n",
    "plt.subplot(1, 2, 2)\n",
    "plt.plot(k_values, silhouette_scores, marker='o')\n",
    "plt.title('Silhouette Score')\n",
    "plt.xlabel('Number of Clusters (k)')\n",
    "plt.ylabel('Silhouette Score')\n",
    "\n",
    "plt.tight_layout()\n",
    "plt.show()"
   ]
  },
  {
   "cell_type": "markdown",
   "metadata": {},
   "source": [
    "In order to find the best K we analyze these plot, we are looking for the best trade off between Silhouette (high) and Inertia (low), therefore we will choose k=5. "
   ]
  },
  {
   "cell_type": "code",
   "execution_count": 10,
   "metadata": {},
   "outputs": [
    {
     "data": {
      "text/html": [
       "<style>#sk-container-id-2 {color: black;background-color: white;}#sk-container-id-2 pre{padding: 0;}#sk-container-id-2 div.sk-toggleable {background-color: white;}#sk-container-id-2 label.sk-toggleable__label {cursor: pointer;display: block;width: 100%;margin-bottom: 0;padding: 0.3em;box-sizing: border-box;text-align: center;}#sk-container-id-2 label.sk-toggleable__label-arrow:before {content: \"▸\";float: left;margin-right: 0.25em;color: #696969;}#sk-container-id-2 label.sk-toggleable__label-arrow:hover:before {color: black;}#sk-container-id-2 div.sk-estimator:hover label.sk-toggleable__label-arrow:before {color: black;}#sk-container-id-2 div.sk-toggleable__content {max-height: 0;max-width: 0;overflow: hidden;text-align: left;background-color: #f0f8ff;}#sk-container-id-2 div.sk-toggleable__content pre {margin: 0.2em;color: black;border-radius: 0.25em;background-color: #f0f8ff;}#sk-container-id-2 input.sk-toggleable__control:checked~div.sk-toggleable__content {max-height: 200px;max-width: 100%;overflow: auto;}#sk-container-id-2 input.sk-toggleable__control:checked~label.sk-toggleable__label-arrow:before {content: \"▾\";}#sk-container-id-2 div.sk-estimator input.sk-toggleable__control:checked~label.sk-toggleable__label {background-color: #d4ebff;}#sk-container-id-2 div.sk-label input.sk-toggleable__control:checked~label.sk-toggleable__label {background-color: #d4ebff;}#sk-container-id-2 input.sk-hidden--visually {border: 0;clip: rect(1px 1px 1px 1px);clip: rect(1px, 1px, 1px, 1px);height: 1px;margin: -1px;overflow: hidden;padding: 0;position: absolute;width: 1px;}#sk-container-id-2 div.sk-estimator {font-family: monospace;background-color: #f0f8ff;border: 1px dotted black;border-radius: 0.25em;box-sizing: border-box;margin-bottom: 0.5em;}#sk-container-id-2 div.sk-estimator:hover {background-color: #d4ebff;}#sk-container-id-2 div.sk-parallel-item::after {content: \"\";width: 100%;border-bottom: 1px solid gray;flex-grow: 1;}#sk-container-id-2 div.sk-label:hover label.sk-toggleable__label {background-color: #d4ebff;}#sk-container-id-2 div.sk-serial::before {content: \"\";position: absolute;border-left: 1px solid gray;box-sizing: border-box;top: 0;bottom: 0;left: 50%;z-index: 0;}#sk-container-id-2 div.sk-serial {display: flex;flex-direction: column;align-items: center;background-color: white;padding-right: 0.2em;padding-left: 0.2em;position: relative;}#sk-container-id-2 div.sk-item {position: relative;z-index: 1;}#sk-container-id-2 div.sk-parallel {display: flex;align-items: stretch;justify-content: center;background-color: white;position: relative;}#sk-container-id-2 div.sk-item::before, #sk-container-id-2 div.sk-parallel-item::before {content: \"\";position: absolute;border-left: 1px solid gray;box-sizing: border-box;top: 0;bottom: 0;left: 50%;z-index: -1;}#sk-container-id-2 div.sk-parallel-item {display: flex;flex-direction: column;z-index: 1;position: relative;background-color: white;}#sk-container-id-2 div.sk-parallel-item:first-child::after {align-self: flex-end;width: 50%;}#sk-container-id-2 div.sk-parallel-item:last-child::after {align-self: flex-start;width: 50%;}#sk-container-id-2 div.sk-parallel-item:only-child::after {width: 0;}#sk-container-id-2 div.sk-dashed-wrapped {border: 1px dashed gray;margin: 0 0.4em 0.5em 0.4em;box-sizing: border-box;padding-bottom: 0.4em;background-color: white;}#sk-container-id-2 div.sk-label label {font-family: monospace;font-weight: bold;display: inline-block;line-height: 1.2em;}#sk-container-id-2 div.sk-label-container {text-align: center;}#sk-container-id-2 div.sk-container {/* jupyter's `normalize.less` sets `[hidden] { display: none; }` but bootstrap.min.css set `[hidden] { display: none !important; }` so we also need the `!important` here to be able to override the default hidden behavior on the sphinx rendered scikit-learn.org. See: https://github.com/scikit-learn/scikit-learn/issues/21755 */display: inline-block !important;position: relative;}#sk-container-id-2 div.sk-text-repr-fallback {display: none;}</style><div id=\"sk-container-id-2\" class=\"sk-top-container\"><div class=\"sk-text-repr-fallback\"><pre>KMeans(n_clusters=5, random_state=42)</pre><b>In a Jupyter environment, please rerun this cell to show the HTML representation or trust the notebook. <br />On GitHub, the HTML representation is unable to render, please try loading this page with nbviewer.org.</b></div><div class=\"sk-container\" hidden><div class=\"sk-item\"><div class=\"sk-estimator sk-toggleable\"><input class=\"sk-toggleable__control sk-hidden--visually\" id=\"sk-estimator-id-2\" type=\"checkbox\" checked><label for=\"sk-estimator-id-2\" class=\"sk-toggleable__label sk-toggleable__label-arrow\">KMeans</label><div class=\"sk-toggleable__content\"><pre>KMeans(n_clusters=5, random_state=42)</pre></div></div></div></div></div>"
      ],
      "text/plain": [
       "KMeans(n_clusters=5, random_state=42)"
      ]
     },
     "execution_count": 10,
     "metadata": {},
     "output_type": "execute_result"
    }
   ],
   "source": [
    "best_k = 5\n",
    "best_kmeans = KMeans(n_clusters=best_k, random_state=42)\n",
    "best_kmeans.fit(X_train)"
   ]
  },
  {
   "cell_type": "markdown",
   "metadata": {},
   "source": [
    "After applied the K-Means to the best _k_, we find for each cluster the tag with the higher count, hence we created a dict that have as keys the cluster number and as values the tag. So, for each song, we change the cluster number with the tag, like a sort of classification - a weak one, as shown from the results."
   ]
  },
  {
   "cell_type": "code",
   "execution_count": 8,
   "metadata": {},
   "outputs": [],
   "source": [
    "# add cluster numbers\n",
    "train['Cluster'] = best_kmeans.labels_\n",
    " # this dict will store for each cluster the tags with the higher counts\n",
    "tags_dict = defaultdict(str)\n",
    "\n",
    "# create dict that has as keys the cluster numbers and as values the tag with the highest count\n",
    "for cluster in range(best_k):\n",
    "    cluster_tags_count = train[train['Cluster'] == cluster]['Tag'].value_counts()\n",
    "    most_present_tag = cluster_tags_count.idxmax()\n",
    "    tags_dict[cluster] = most_present_tag\n",
    "\n",
    "# we substitute for each cluster number the computed tag\n",
    "train['predicted_Tag'] = train['Cluster'].map(tags_dict)"
   ]
  },
  {
   "cell_type": "markdown",
   "metadata": {},
   "source": [
    "In the end, we compute the accuracy of our model and create the playlist."
   ]
  },
  {
   "cell_type": "code",
   "execution_count": 9,
   "metadata": {},
   "outputs": [
    {
     "name": "stdout",
     "output_type": "stream",
     "text": [
      "Accuracy: 0.3943\n"
     ]
    }
   ],
   "source": [
    "playlists_data = train.drop_duplicates()\n",
    "playlists_data = playlists_data.sort_values(['predicted_Tag', 'Track'])\n",
    "\n",
    "# initialize an empty dataframe which will contains the top 20 songs\n",
    "top_20 = pd.DataFrame()\n",
    "\n",
    "# iterate over the tags, for each tag we are gonna add to the dataframe the first 20 songs\n",
    "for tag in playlists_data['predicted_Tag'].unique():\n",
    "    tag_playlist = playlists_data[playlists_data['predicted_Tag'] == tag].head(20)\n",
    "    top_20 = pd.concat([top_20, tag_playlist])\n",
    "\n",
    "# we don't need to display any features beyond the track name and the tag\n",
    "top_20 = top_20[['Track', 'predicted_Tag']]\n",
    "\n",
    "y_pred = train['predicted_Tag']\n",
    "accuracy = accuracy_score(y_true, y_pred)\n",
    "print(f\"Accuracy: {accuracy:.4f}\")"
   ]
  },
  {
   "cell_type": "markdown",
   "metadata": {},
   "source": [
    "We know that both K-Means and KNN performs classification (unsupervised and supervised) based on the neighborhood of each point, hence it's clear that given their low results our dataframe is not good with clustering algorithm because apparently, despite we chose distinct music genres, there are many overlapping between data and there isn't any well defined cluster."
   ]
  },
  {
   "cell_type": "markdown",
   "metadata": {},
   "source": [
    "# Conclusion"
   ]
  },
  {
   "cell_type": "markdown",
   "metadata": {},
   "source": [
    "In the end, this has become a multi-class classification problem instead of a clustering problem. By looking at the results and to the scores we are confident saying that our data are not suitable to clustering models and there aren't any well defined clusters and probably there are overlapping among the classes. In fact, the models based on the neighborhood of the points (KNN and K-Means) are not useful for our problems and don't perform well.\n",
    "\n",
    "Moreover, when dealing with unbalanced test set, the Random Forest behave really well. As a matter of fact, the RF is a **ensemble learning** model that builds multiple decision trees and combines their predictions, making it more effective for unbalanced classes. In fact, this is the best model we could possibly found and it worked really well with both balanced and unbalanced test set.\n",
    "\n",
    "Furthermore, by deploying the **confusion matrix** for each model we noticed that among the data there is a well identifiable tred, in particular each model has some issues and make several mistakes among class 2 (Gianluca) and 3 (Giuliana) of the confusion matrix -recognizable from a darker 2x2, which appear in almost any confusion matrix- and this is strenghtening our thesis that data are not well defined and separated."
   ]
  }
 ],
 "metadata": {
  "kernelspec": {
   "display_name": "Python 3",
   "language": "python",
   "name": "python3"
  },
  "language_info": {
   "codemirror_mode": {
    "name": "ipython",
    "version": 3
   },
   "file_extension": ".py",
   "mimetype": "text/x-python",
   "name": "python",
   "nbconvert_exporter": "python",
   "pygments_lexer": "ipython3",
   "version": "3.9.13"
  }
 },
 "nbformat": 4,
 "nbformat_minor": 4
}
